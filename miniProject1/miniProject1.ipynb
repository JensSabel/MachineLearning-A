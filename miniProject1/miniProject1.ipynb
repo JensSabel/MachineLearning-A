{
 "cells": [
  {
   "cell_type": "code",
   "execution_count": 1,
   "id": "343ebcb8",
   "metadata": {
    "scrolled": true
   },
   "outputs": [],
   "source": [
    "#Might be unnessesary since i created this in a python virtual environment.\n",
    "#!pip install tensorflow netron\n",
    "#pip install pydotplus\n",
    "#pip install pydot\n",
    "#pip install netron\n",
    "#!pip install sklearn\n",
    "#!pip install pandas"
   ]
  },
  {
   "cell_type": "code",
   "execution_count": 2,
   "id": "591a2d94",
   "metadata": {},
   "outputs": [
    {
     "name": "stderr",
     "output_type": "stream",
     "text": [
      "2023-01-25 15:37:08.437658: I tensorflow/core/platform/cpu_feature_guard.cc:193] This TensorFlow binary is optimized with oneAPI Deep Neural Network Library (oneDNN) to use the following CPU instructions in performance-critical operations:  AVX2 FMA\n",
      "To enable them in other operations, rebuild TensorFlow with the appropriate compiler flags.\n",
      "2023-01-25 15:37:09.519808: W tensorflow/compiler/xla/stream_executor/platform/default/dso_loader.cc:64] Could not load dynamic library 'libnvinfer.so.7'; dlerror: libnvinfer.so.7: cannot open shared object file: No such file or directory\n",
      "2023-01-25 15:37:09.519902: W tensorflow/compiler/xla/stream_executor/platform/default/dso_loader.cc:64] Could not load dynamic library 'libnvinfer_plugin.so.7'; dlerror: libnvinfer_plugin.so.7: cannot open shared object file: No such file or directory\n",
      "2023-01-25 15:37:09.519914: W tensorflow/compiler/tf2tensorrt/utils/py_utils.cc:38] TF-TRT Warning: Cannot dlopen some TensorRT libraries. If you would like to use Nvidia GPU with TensorRT, please make sure the missing libraries mentioned above are installed properly.\n"
     ]
    }
   ],
   "source": [
    "# Load libraries\n",
    "from sklearn import preprocessing\n",
    "from sklearn.model_selection import train_test_split\n",
    "from sklearn.preprocessing import MinMaxScaler\n",
    "\n",
    "import numpy as np\n",
    "\n",
    "from keras import models\n",
    "from keras import layers\n",
    "from keras.preprocessing.text import Tokenizer\n",
    "from keras.models import Sequential\n",
    "from keras.layers import Dense\n",
    "\n",
    "import pandas as pd\n",
    "\n",
    "import matplotlib.pyplot as plt\n",
    "\n",
    "import netron"
   ]
  },
  {
   "cell_type": "code",
   "execution_count": 3,
   "id": "c8b05ccd",
   "metadata": {},
   "outputs": [
    {
     "data": {
      "text/html": [
       "<div>\n",
       "<style scoped>\n",
       "    .dataframe tbody tr th:only-of-type {\n",
       "        vertical-align: middle;\n",
       "    }\n",
       "\n",
       "    .dataframe tbody tr th {\n",
       "        vertical-align: top;\n",
       "    }\n",
       "\n",
       "    .dataframe thead th {\n",
       "        text-align: right;\n",
       "    }\n",
       "</style>\n",
       "<table border=\"1\" class=\"dataframe\">\n",
       "  <thead>\n",
       "    <tr style=\"text-align: right;\">\n",
       "      <th></th>\n",
       "      <th>age</th>\n",
       "      <th>duration</th>\n",
       "      <th>campaign</th>\n",
       "      <th>pdays</th>\n",
       "      <th>previous</th>\n",
       "      <th>emp.var.rate</th>\n",
       "      <th>cons.price.idx</th>\n",
       "      <th>cons.conf.idx</th>\n",
       "      <th>euribor3m</th>\n",
       "      <th>nr.employed</th>\n",
       "      <th>...</th>\n",
       "      <th>month_oct</th>\n",
       "      <th>month_sep</th>\n",
       "      <th>day_of_week_fri</th>\n",
       "      <th>day_of_week_mon</th>\n",
       "      <th>day_of_week_thu</th>\n",
       "      <th>day_of_week_tue</th>\n",
       "      <th>day_of_week_wed</th>\n",
       "      <th>poutcome_failure</th>\n",
       "      <th>poutcome_nonexistent</th>\n",
       "      <th>poutcome_success</th>\n",
       "    </tr>\n",
       "  </thead>\n",
       "  <tbody>\n",
       "    <tr>\n",
       "      <th>0</th>\n",
       "      <td>56</td>\n",
       "      <td>261</td>\n",
       "      <td>1</td>\n",
       "      <td>999</td>\n",
       "      <td>0</td>\n",
       "      <td>1.1</td>\n",
       "      <td>93.994</td>\n",
       "      <td>-36.4</td>\n",
       "      <td>4.857</td>\n",
       "      <td>5191.0</td>\n",
       "      <td>...</td>\n",
       "      <td>0</td>\n",
       "      <td>0</td>\n",
       "      <td>0</td>\n",
       "      <td>1</td>\n",
       "      <td>0</td>\n",
       "      <td>0</td>\n",
       "      <td>0</td>\n",
       "      <td>0</td>\n",
       "      <td>1</td>\n",
       "      <td>0</td>\n",
       "    </tr>\n",
       "    <tr>\n",
       "      <th>1</th>\n",
       "      <td>57</td>\n",
       "      <td>149</td>\n",
       "      <td>1</td>\n",
       "      <td>999</td>\n",
       "      <td>0</td>\n",
       "      <td>1.1</td>\n",
       "      <td>93.994</td>\n",
       "      <td>-36.4</td>\n",
       "      <td>4.857</td>\n",
       "      <td>5191.0</td>\n",
       "      <td>...</td>\n",
       "      <td>0</td>\n",
       "      <td>0</td>\n",
       "      <td>0</td>\n",
       "      <td>1</td>\n",
       "      <td>0</td>\n",
       "      <td>0</td>\n",
       "      <td>0</td>\n",
       "      <td>0</td>\n",
       "      <td>1</td>\n",
       "      <td>0</td>\n",
       "    </tr>\n",
       "    <tr>\n",
       "      <th>2</th>\n",
       "      <td>37</td>\n",
       "      <td>226</td>\n",
       "      <td>1</td>\n",
       "      <td>999</td>\n",
       "      <td>0</td>\n",
       "      <td>1.1</td>\n",
       "      <td>93.994</td>\n",
       "      <td>-36.4</td>\n",
       "      <td>4.857</td>\n",
       "      <td>5191.0</td>\n",
       "      <td>...</td>\n",
       "      <td>0</td>\n",
       "      <td>0</td>\n",
       "      <td>0</td>\n",
       "      <td>1</td>\n",
       "      <td>0</td>\n",
       "      <td>0</td>\n",
       "      <td>0</td>\n",
       "      <td>0</td>\n",
       "      <td>1</td>\n",
       "      <td>0</td>\n",
       "    </tr>\n",
       "    <tr>\n",
       "      <th>3</th>\n",
       "      <td>40</td>\n",
       "      <td>151</td>\n",
       "      <td>1</td>\n",
       "      <td>999</td>\n",
       "      <td>0</td>\n",
       "      <td>1.1</td>\n",
       "      <td>93.994</td>\n",
       "      <td>-36.4</td>\n",
       "      <td>4.857</td>\n",
       "      <td>5191.0</td>\n",
       "      <td>...</td>\n",
       "      <td>0</td>\n",
       "      <td>0</td>\n",
       "      <td>0</td>\n",
       "      <td>1</td>\n",
       "      <td>0</td>\n",
       "      <td>0</td>\n",
       "      <td>0</td>\n",
       "      <td>0</td>\n",
       "      <td>1</td>\n",
       "      <td>0</td>\n",
       "    </tr>\n",
       "    <tr>\n",
       "      <th>4</th>\n",
       "      <td>56</td>\n",
       "      <td>307</td>\n",
       "      <td>1</td>\n",
       "      <td>999</td>\n",
       "      <td>0</td>\n",
       "      <td>1.1</td>\n",
       "      <td>93.994</td>\n",
       "      <td>-36.4</td>\n",
       "      <td>4.857</td>\n",
       "      <td>5191.0</td>\n",
       "      <td>...</td>\n",
       "      <td>0</td>\n",
       "      <td>0</td>\n",
       "      <td>0</td>\n",
       "      <td>1</td>\n",
       "      <td>0</td>\n",
       "      <td>0</td>\n",
       "      <td>0</td>\n",
       "      <td>0</td>\n",
       "      <td>1</td>\n",
       "      <td>0</td>\n",
       "    </tr>\n",
       "  </tbody>\n",
       "</table>\n",
       "<p>5 rows × 63 columns</p>\n",
       "</div>"
      ],
      "text/plain": [
       "   age  duration  campaign  pdays  previous  emp.var.rate  cons.price.idx  \\\n",
       "0   56       261         1    999         0           1.1          93.994   \n",
       "1   57       149         1    999         0           1.1          93.994   \n",
       "2   37       226         1    999         0           1.1          93.994   \n",
       "3   40       151         1    999         0           1.1          93.994   \n",
       "4   56       307         1    999         0           1.1          93.994   \n",
       "\n",
       "   cons.conf.idx  euribor3m  nr.employed  ...  month_oct  month_sep  \\\n",
       "0          -36.4      4.857       5191.0  ...          0          0   \n",
       "1          -36.4      4.857       5191.0  ...          0          0   \n",
       "2          -36.4      4.857       5191.0  ...          0          0   \n",
       "3          -36.4      4.857       5191.0  ...          0          0   \n",
       "4          -36.4      4.857       5191.0  ...          0          0   \n",
       "\n",
       "   day_of_week_fri  day_of_week_mon  day_of_week_thu  day_of_week_tue  \\\n",
       "0                0                1                0                0   \n",
       "1                0                1                0                0   \n",
       "2                0                1                0                0   \n",
       "3                0                1                0                0   \n",
       "4                0                1                0                0   \n",
       "\n",
       "   day_of_week_wed  poutcome_failure  poutcome_nonexistent  poutcome_success  \n",
       "0                0                 0                     1                 0  \n",
       "1                0                 0                     1                 0  \n",
       "2                0                 0                     1                 0  \n",
       "3                0                 0                     1                 0  \n",
       "4                0                 0                     1                 0  \n",
       "\n",
       "[5 rows x 63 columns]"
      ]
     },
     "execution_count": 3,
     "metadata": {},
     "output_type": "execute_result"
    }
   ],
   "source": [
    "#load data\n",
    "df = pd.read_csv('./bank-additional-full.csv', sep=';')\n",
    "df = df.dropna()\n",
    "#cleans the data\n",
    "data = df.drop('y', axis=1)\n",
    "target = df['y']\n",
    "target = np.where(target == 'yes', 1, 0)\n",
    "data = pd.get_dummies(data, columns=[\"job\",\"marital\",\"education\",\"default\",\"housing\",\"loan\",\"contact\",\"month\",\"day_of_week\",\"poutcome\"])\n",
    "data.head()"
   ]
  },
  {
   "cell_type": "code",
   "execution_count": 4,
   "id": "347618f7",
   "metadata": {
    "scrolled": true
   },
   "outputs": [],
   "source": [
    "# Load data and target\n",
    "data_train, data_test, target_train, target_test = train_test_split(data, target, test_size=0.2, random_state=69)\n",
    "scaler = MinMaxScaler()\n",
    "data_train = scaler.fit_transform(data_train)\n",
    "data_test = scaler.transform(data_test)"
   ]
  },
  {
   "cell_type": "code",
   "execution_count": 5,
   "id": "b440289c",
   "metadata": {
    "scrolled": true
   },
   "outputs": [
    {
     "name": "stdout",
     "output_type": "stream",
     "text": [
      "Epoch 1/50\n"
     ]
    },
    {
     "name": "stderr",
     "output_type": "stream",
     "text": [
      "2023-01-25 15:37:11.724256: E tensorflow/compiler/xla/stream_executor/cuda/cuda_driver.cc:267] failed call to cuInit: CUDA_ERROR_NO_DEVICE: no CUDA-capable device is detected\n",
      "2023-01-25 15:37:11.724289: I tensorflow/compiler/xla/stream_executor/cuda/cuda_diagnostics.cc:156] kernel driver does not appear to be running on this host (jens-XPS-13-9370): /proc/driver/nvidia/version does not exist\n",
      "2023-01-25 15:37:11.724834: I tensorflow/core/platform/cpu_feature_guard.cc:193] This TensorFlow binary is optimized with oneAPI Deep Neural Network Library (oneDNN) to use the following CPU instructions in performance-critical operations:  AVX2 FMA\n",
      "To enable them in other operations, rebuild TensorFlow with the appropriate compiler flags.\n"
     ]
    },
    {
     "name": "stdout",
     "output_type": "stream",
     "text": [
      "2060/2060 [==============================] - 6s 3ms/step - loss: 0.2558 - accuracy: 0.9003 - val_loss: 0.2206 - val_accuracy: 0.9051\n",
      "Epoch 2/50\n",
      "2060/2060 [==============================] - 3s 2ms/step - loss: 0.2088 - accuracy: 0.9096 - val_loss: 0.2083 - val_accuracy: 0.9057\n",
      "Epoch 3/50\n",
      "2060/2060 [==============================] - 3s 2ms/step - loss: 0.1959 - accuracy: 0.9107 - val_loss: 0.1895 - val_accuracy: 0.9118\n",
      "Epoch 4/50\n",
      "2060/2060 [==============================] - 4s 2ms/step - loss: 0.1897 - accuracy: 0.9135 - val_loss: 0.1942 - val_accuracy: 0.9103\n",
      "Epoch 5/50\n",
      "2060/2060 [==============================] - 4s 2ms/step - loss: 0.1857 - accuracy: 0.9136 - val_loss: 0.1849 - val_accuracy: 0.9127\n",
      "Epoch 6/50\n",
      "2060/2060 [==============================] - 4s 2ms/step - loss: 0.1824 - accuracy: 0.9159 - val_loss: 0.1832 - val_accuracy: 0.9121\n",
      "Epoch 7/50\n",
      "2060/2060 [==============================] - 4s 2ms/step - loss: 0.1819 - accuracy: 0.9165 - val_loss: 0.1840 - val_accuracy: 0.9124\n",
      "Epoch 8/50\n",
      "2060/2060 [==============================] - 4s 2ms/step - loss: 0.1793 - accuracy: 0.9163 - val_loss: 0.1823 - val_accuracy: 0.9127\n",
      "Epoch 9/50\n",
      "2060/2060 [==============================] - 4s 2ms/step - loss: 0.1772 - accuracy: 0.9179 - val_loss: 0.1831 - val_accuracy: 0.9121\n",
      "Epoch 10/50\n",
      "2060/2060 [==============================] - 4s 2ms/step - loss: 0.1764 - accuracy: 0.9172 - val_loss: 0.1834 - val_accuracy: 0.9113\n",
      "Epoch 11/50\n",
      "2060/2060 [==============================] - 4s 2ms/step - loss: 0.1751 - accuracy: 0.9182 - val_loss: 0.1845 - val_accuracy: 0.9136\n",
      "Epoch 12/50\n",
      "2060/2060 [==============================] - 4s 2ms/step - loss: 0.1731 - accuracy: 0.9197 - val_loss: 0.1865 - val_accuracy: 0.9134\n",
      "Epoch 13/50\n",
      "2060/2060 [==============================] - 4s 2ms/step - loss: 0.1727 - accuracy: 0.9199 - val_loss: 0.1837 - val_accuracy: 0.9124\n",
      "Epoch 14/50\n",
      "2060/2060 [==============================] - 4s 2ms/step - loss: 0.1709 - accuracy: 0.9205 - val_loss: 0.1861 - val_accuracy: 0.9097\n",
      "Epoch 15/50\n",
      "2060/2060 [==============================] - 4s 2ms/step - loss: 0.1697 - accuracy: 0.9216 - val_loss: 0.1851 - val_accuracy: 0.9122\n",
      "Epoch 16/50\n",
      "2060/2060 [==============================] - 4s 2ms/step - loss: 0.1687 - accuracy: 0.9221 - val_loss: 0.1876 - val_accuracy: 0.9103\n",
      "Epoch 17/50\n",
      "2060/2060 [==============================] - 4s 2ms/step - loss: 0.1677 - accuracy: 0.9217 - val_loss: 0.1883 - val_accuracy: 0.9091\n",
      "Epoch 18/50\n",
      "2060/2060 [==============================] - 4s 2ms/step - loss: 0.1671 - accuracy: 0.9219 - val_loss: 0.1883 - val_accuracy: 0.9102\n",
      "Epoch 19/50\n",
      "2060/2060 [==============================] - 4s 2ms/step - loss: 0.1659 - accuracy: 0.9233 - val_loss: 0.1873 - val_accuracy: 0.9090\n",
      "Epoch 20/50\n",
      "2060/2060 [==============================] - 4s 2ms/step - loss: 0.1653 - accuracy: 0.9242 - val_loss: 0.1890 - val_accuracy: 0.9094\n",
      "Epoch 21/50\n",
      "2060/2060 [==============================] - 4s 2ms/step - loss: 0.1633 - accuracy: 0.9246 - val_loss: 0.1928 - val_accuracy: 0.9054\n",
      "Epoch 22/50\n",
      "2060/2060 [==============================] - 4s 2ms/step - loss: 0.1629 - accuracy: 0.9240 - val_loss: 0.1963 - val_accuracy: 0.9096\n",
      "Epoch 23/50\n",
      "2060/2060 [==============================] - 4s 2ms/step - loss: 0.1621 - accuracy: 0.9256 - val_loss: 0.1998 - val_accuracy: 0.9102\n",
      "Epoch 24/50\n",
      "2060/2060 [==============================] - 4s 2ms/step - loss: 0.1608 - accuracy: 0.9253 - val_loss: 0.2017 - val_accuracy: 0.9110\n",
      "Epoch 25/50\n",
      "2060/2060 [==============================] - 4s 2ms/step - loss: 0.1602 - accuracy: 0.9269 - val_loss: 0.1956 - val_accuracy: 0.9070\n",
      "Epoch 26/50\n",
      "2060/2060 [==============================] - 4s 2ms/step - loss: 0.1592 - accuracy: 0.9260 - val_loss: 0.1932 - val_accuracy: 0.9090\n",
      "Epoch 27/50\n",
      "2060/2060 [==============================] - 4s 2ms/step - loss: 0.1584 - accuracy: 0.9268 - val_loss: 0.1944 - val_accuracy: 0.9060\n",
      "Epoch 28/50\n",
      "2060/2060 [==============================] - 4s 2ms/step - loss: 0.1577 - accuracy: 0.9272 - val_loss: 0.1963 - val_accuracy: 0.9103\n",
      "Epoch 29/50\n",
      "2060/2060 [==============================] - 4s 2ms/step - loss: 0.1569 - accuracy: 0.9277 - val_loss: 0.1980 - val_accuracy: 0.9087\n",
      "Epoch 30/50\n",
      "2060/2060 [==============================] - 4s 2ms/step - loss: 0.1559 - accuracy: 0.9276 - val_loss: 0.1978 - val_accuracy: 0.9086\n",
      "Epoch 31/50\n",
      "2060/2060 [==============================] - 4s 2ms/step - loss: 0.1550 - accuracy: 0.9286 - val_loss: 0.2016 - val_accuracy: 0.9057\n",
      "Epoch 32/50\n",
      "2060/2060 [==============================] - 4s 2ms/step - loss: 0.1537 - accuracy: 0.9300 - val_loss: 0.2033 - val_accuracy: 0.9096\n",
      "Epoch 33/50\n",
      "2060/2060 [==============================] - 4s 2ms/step - loss: 0.1529 - accuracy: 0.9290 - val_loss: 0.2090 - val_accuracy: 0.9082\n",
      "Epoch 34/50\n",
      "2060/2060 [==============================] - 4s 2ms/step - loss: 0.1527 - accuracy: 0.9295 - val_loss: 0.2063 - val_accuracy: 0.9053\n",
      "Epoch 35/50\n",
      "2060/2060 [==============================] - 4s 2ms/step - loss: 0.1516 - accuracy: 0.9297 - val_loss: 0.2047 - val_accuracy: 0.9060\n",
      "Epoch 36/50\n",
      "2060/2060 [==============================] - 4s 2ms/step - loss: 0.1507 - accuracy: 0.9307 - val_loss: 0.2112 - val_accuracy: 0.9103\n",
      "Epoch 37/50\n",
      "2060/2060 [==============================] - 4s 2ms/step - loss: 0.1502 - accuracy: 0.9317 - val_loss: 0.2065 - val_accuracy: 0.9046\n",
      "Epoch 38/50\n",
      "2060/2060 [==============================] - 4s 2ms/step - loss: 0.1487 - accuracy: 0.9315 - val_loss: 0.2131 - val_accuracy: 0.9070\n",
      "Epoch 39/50\n",
      "2060/2060 [==============================] - 4s 2ms/step - loss: 0.1490 - accuracy: 0.9326 - val_loss: 0.2177 - val_accuracy: 0.9043\n",
      "Epoch 40/50\n",
      "2060/2060 [==============================] - 4s 2ms/step - loss: 0.1478 - accuracy: 0.9322 - val_loss: 0.2173 - val_accuracy: 0.9086\n",
      "Epoch 41/50\n",
      "2060/2060 [==============================] - 4s 2ms/step - loss: 0.1466 - accuracy: 0.9333 - val_loss: 0.2201 - val_accuracy: 0.9064\n",
      "Epoch 42/50\n",
      "2060/2060 [==============================] - 4s 2ms/step - loss: 0.1469 - accuracy: 0.9336 - val_loss: 0.2163 - val_accuracy: 0.9035\n",
      "Epoch 43/50\n",
      "2060/2060 [==============================] - 4s 2ms/step - loss: 0.1454 - accuracy: 0.9347 - val_loss: 0.2135 - val_accuracy: 0.9065\n",
      "Epoch 44/50\n",
      "2060/2060 [==============================] - 4s 2ms/step - loss: 0.1450 - accuracy: 0.9348 - val_loss: 0.2189 - val_accuracy: 0.9065\n",
      "Epoch 45/50\n",
      "2060/2060 [==============================] - 4s 2ms/step - loss: 0.1442 - accuracy: 0.9342 - val_loss: 0.2150 - val_accuracy: 0.9077\n",
      "Epoch 46/50\n",
      "2060/2060 [==============================] - 4s 2ms/step - loss: 0.1438 - accuracy: 0.9354 - val_loss: 0.2181 - val_accuracy: 0.9085\n",
      "Epoch 47/50\n",
      "2060/2060 [==============================] - 4s 2ms/step - loss: 0.1425 - accuracy: 0.9355 - val_loss: 0.2223 - val_accuracy: 0.9065\n",
      "Epoch 48/50\n",
      "2060/2060 [==============================] - 4s 2ms/step - loss: 0.1421 - accuracy: 0.9355 - val_loss: 0.2179 - val_accuracy: 0.9042\n",
      "Epoch 49/50\n",
      "2060/2060 [==============================] - 4s 2ms/step - loss: 0.1419 - accuracy: 0.9360 - val_loss: 0.2229 - val_accuracy: 0.9035\n",
      "Epoch 50/50\n",
      "2060/2060 [==============================] - 4s 2ms/step - loss: 0.1422 - accuracy: 0.9369 - val_loss: 0.2320 - val_accuracy: 0.9075\n"
     ]
    }
   ],
   "source": [
    "# Builds the neural network and runs it\n",
    "model = Sequential()\n",
    "model.add(Dense(32, input_dim=data_train.shape[1], activation='relu', input_shape=(63,)))\n",
    "model.add(Dense(32, input_dim=data_train.shape[1], activation='relu'))\n",
    "model.add(Dense(1, activation='sigmoid'))\n",
    "model.compile(optimizer='adam', loss='binary_crossentropy', metrics=['accuracy'])\n",
    "history = model.fit(data_train, target_train, epochs=50, batch_size=16, validation_data=(data_test, target_test))"
   ]
  },
  {
   "cell_type": "code",
   "execution_count": 6,
   "id": "6c4ffd44",
   "metadata": {},
   "outputs": [],
   "source": [
    "# Get training and test loss histories\n",
    "training_loss = history.history[\"loss\"]\n",
    "test_loss = history.history[\"val_loss\"]\n",
    "# Get training and te\n",
    "train_acc = history.history['accuracy']\n",
    "val_acc = history.history['val_accuracy']\n",
    "# Create count of the number of epochs\n",
    "epoch_count = range(1, len(training_loss) + 1)"
   ]
  },
  {
   "cell_type": "code",
   "execution_count": 7,
   "id": "d6e5b6ff",
   "metadata": {},
   "outputs": [
    {
     "data": {
      "image/png": "[encoded data removed]",
      "text/plain": [
       "<Figure size 640x480 with 1 Axes>"
      ]
     },
     "metadata": {},
     "output_type": "display_data"
    }
   ],
   "source": [
    "# Visualize loss history\n",
    "plt.plot(epoch_count, training_loss, \"r-\")\n",
    "plt.plot(epoch_count, test_loss, \"b-\")\n",
    "plt.legend([\"Training Loss\", \"Test Loss\"])\n",
    "plt.xlabel(\"Epoch\")\n",
    "plt.ylabel(\"Loss\")\n",
    "plt.show()"
   ]
  },
  {
   "cell_type": "code",
   "execution_count": 8,
   "id": "26981a69",
   "metadata": {
    "scrolled": false
   },
   "outputs": [
    {
     "data": {
      "image/png": "[encoded data removed]",
      "text/plain": [
       "<Figure size 640x480 with 1 Axes>"
      ]
     },
     "metadata": {},
     "output_type": "display_data"
    }
   ],
   "source": [
    "#Visualizes the accuracy\n",
    "plt.plot(epoch_count, train_acc, \"r-\")\n",
    "plt.plot(epoch_count, val_acc, \"b-\")\n",
    "plt.legend([\"Training Accuracy\", \"Test Accuracy\"])\n",
    "plt.xlabel(\"Epoch\")\n",
    "plt.ylabel(\"Accuracy\")\n",
    "plt.show()"
   ]
  },
  {
   "cell_type": "code",
   "execution_count": 9,
   "id": "b7381397",
   "metadata": {},
   "outputs": [
    {
     "name": "stdout",
     "output_type": "stream",
     "text": [
      "Serving 'model.h5' at http://localhost:8080\n"
     ]
    },
    {
     "data": {
      "text/plain": [
       "('localhost', 8080)"
      ]
     },
     "execution_count": 9,
     "metadata": {},
     "output_type": "execute_result"
    }
   ],
   "source": [
    "# Starts an localhost that visualizes the Network architecture, using the open-source library netron\n",
    "model.save('model.h5')\n",
    "netron.start('model.h5')"
   ]
  }
 ],
 "metadata": {
  "kernelspec": {
   "display_name": "myenv",
   "language": "python",
   "name": "myenv"
  },
  "language_info": {
   "codemirror_mode": {
    "name": "ipython",
    "version": 3
   },
   "file_extension": ".py",
   "mimetype": "text/x-python",
   "name": "python",
   "nbconvert_exporter": "python",
   "pygments_lexer": "ipython3",
   "version": "3.10.6"
  }
 },
 "nbformat": 4,
 "nbformat_minor": 5
}
