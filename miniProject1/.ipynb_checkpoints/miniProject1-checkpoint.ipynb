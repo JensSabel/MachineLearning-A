{
 "cells": [
  {
   "cell_type": "code",
   "execution_count": 1,
   "id": "81a23dbe",
   "metadata": {},
   "outputs": [
    {
     "name": "stdout",
     "output_type": "stream",
     "text": [
      "Defaulting to user installation because normal site-packages is not writeable\n",
      "Requirement already satisfied: tensorflow in /home/jens/.local/lib/python3.10/site-packages (2.11.0)\n",
      "Requirement already satisfied: grpcio<2.0,>=1.24.3 in /home/jens/.local/lib/python3.10/site-packages (from tensorflow) (1.51.1)\n",
      "Requirement already satisfied: tensorflow-estimator<2.12,>=2.11.0 in /home/jens/.local/lib/python3.10/site-packages (from tensorflow) (2.11.0)\n",
      "Requirement already satisfied: packaging in /usr/lib/python3/dist-packages (from tensorflow) (21.3)\n",
      "Requirement already satisfied: protobuf<3.20,>=3.9.2 in /usr/lib/python3/dist-packages (from tensorflow) (3.12.4)\n",
      "Requirement already satisfied: typing-extensions>=3.6.6 in /home/jens/.local/lib/python3.10/site-packages (from tensorflow) (4.4.0)\n",
      "Requirement already satisfied: setuptools in /usr/lib/python3/dist-packages (from tensorflow) (59.6.0)\n",
      "Requirement already satisfied: libclang>=13.0.0 in /home/jens/.local/lib/python3.10/site-packages (from tensorflow) (15.0.6.1)\n",
      "Requirement already satisfied: google-pasta>=0.1.1 in /home/jens/.local/lib/python3.10/site-packages (from tensorflow) (0.2.0)\n",
      "Requirement already satisfied: numpy>=1.20 in /usr/lib/python3/dist-packages (from tensorflow) (1.21.5)\n",
      "Requirement already satisfied: six>=1.12.0 in /usr/lib/python3/dist-packages (from tensorflow) (1.16.0)\n",
      "Requirement already satisfied: wrapt>=1.11.0 in /home/jens/.local/lib/python3.10/site-packages (from tensorflow) (1.14.1)\n",
      "Requirement already satisfied: gast<=0.4.0,>=0.2.1 in /home/jens/.local/lib/python3.10/site-packages (from tensorflow) (0.4.0)\n",
      "Requirement already satisfied: flatbuffers>=2.0 in /home/jens/.local/lib/python3.10/site-packages (from tensorflow) (23.1.21)\n",
      "Requirement already satisfied: tensorflow-io-gcs-filesystem>=0.23.1 in /home/jens/.local/lib/python3.10/site-packages (from tensorflow) (0.30.0)\n",
      "Requirement already satisfied: h5py>=2.9.0 in /home/jens/.local/lib/python3.10/site-packages (from tensorflow) (3.8.0)\n",
      "Requirement already satisfied: opt-einsum>=2.3.2 in /home/jens/.local/lib/python3.10/site-packages (from tensorflow) (3.3.0)\n",
      "Requirement already satisfied: absl-py>=1.0.0 in /home/jens/.local/lib/python3.10/site-packages (from tensorflow) (1.4.0)\n",
      "Requirement already satisfied: termcolor>=1.1.0 in /home/jens/.local/lib/python3.10/site-packages (from tensorflow) (2.2.0)\n",
      "Requirement already satisfied: keras<2.12,>=2.11.0 in /home/jens/.local/lib/python3.10/site-packages (from tensorflow) (2.11.0)\n",
      "Requirement already satisfied: tensorboard<2.12,>=2.11 in /home/jens/.local/lib/python3.10/site-packages (from tensorflow) (2.11.2)\n",
      "Requirement already satisfied: astunparse>=1.6.0 in /home/jens/.local/lib/python3.10/site-packages (from tensorflow) (1.6.3)\n",
      "Requirement already satisfied: wheel<1.0,>=0.23.0 in /usr/lib/python3/dist-packages (from astunparse>=1.6.0->tensorflow) (0.37.1)\n",
      "Requirement already satisfied: tensorboard-data-server<0.7.0,>=0.6.0 in /home/jens/.local/lib/python3.10/site-packages (from tensorboard<2.12,>=2.11->tensorflow) (0.6.1)\n",
      "Requirement already satisfied: google-auth-oauthlib<0.5,>=0.4.1 in /home/jens/.local/lib/python3.10/site-packages (from tensorboard<2.12,>=2.11->tensorflow) (0.4.6)\n",
      "Requirement already satisfied: requests<3,>=2.21.0 in /usr/lib/python3/dist-packages (from tensorboard<2.12,>=2.11->tensorflow) (2.25.1)\n",
      "Requirement already satisfied: markdown>=2.6.8 in /home/jens/.local/lib/python3.10/site-packages (from tensorboard<2.12,>=2.11->tensorflow) (3.4.1)\n",
      "Requirement already satisfied: google-auth<3,>=1.6.3 in /home/jens/.local/lib/python3.10/site-packages (from tensorboard<2.12,>=2.11->tensorflow) (2.16.0)\n",
      "Requirement already satisfied: werkzeug>=1.0.1 in /home/jens/.local/lib/python3.10/site-packages (from tensorboard<2.12,>=2.11->tensorflow) (2.2.2)\n",
      "Requirement already satisfied: tensorboard-plugin-wit>=1.6.0 in /home/jens/.local/lib/python3.10/site-packages (from tensorboard<2.12,>=2.11->tensorflow) (1.8.1)\n",
      "Requirement already satisfied: pyasn1-modules>=0.2.1 in /home/jens/.local/lib/python3.10/site-packages (from google-auth<3,>=1.6.3->tensorboard<2.12,>=2.11->tensorflow) (0.2.8)\n",
      "Requirement already satisfied: cachetools<6.0,>=2.0.0 in /home/jens/.local/lib/python3.10/site-packages (from google-auth<3,>=1.6.3->tensorboard<2.12,>=2.11->tensorflow) (5.3.0)\n",
      "Requirement already satisfied: rsa<5,>=3.1.4 in /home/jens/.local/lib/python3.10/site-packages (from google-auth<3,>=1.6.3->tensorboard<2.12,>=2.11->tensorflow) (4.9)\n",
      "Requirement already satisfied: requests-oauthlib>=0.7.0 in /home/jens/.local/lib/python3.10/site-packages (from google-auth-oauthlib<0.5,>=0.4.1->tensorboard<2.12,>=2.11->tensorflow) (1.3.1)\n",
      "Requirement already satisfied: MarkupSafe>=2.1.1 in /home/jens/.local/lib/python3.10/site-packages (from werkzeug>=1.0.1->tensorboard<2.12,>=2.11->tensorflow) (2.1.2)\n",
      "Requirement already satisfied: pyasn1<0.5.0,>=0.4.6 in /home/jens/.local/lib/python3.10/site-packages (from pyasn1-modules>=0.2.1->google-auth<3,>=1.6.3->tensorboard<2.12,>=2.11->tensorflow) (0.4.8)\n",
      "Requirement already satisfied: oauthlib>=3.0.0 in /usr/lib/python3/dist-packages (from requests-oauthlib>=0.7.0->google-auth-oauthlib<0.5,>=0.4.1->tensorboard<2.12,>=2.11->tensorflow) (3.2.0)\n"
     ]
    }
   ],
   "source": [
    "!pip install tensorflow"
   ]
  },
  {
   "cell_type": "code",
   "execution_count": 2,
   "id": "2af88572",
   "metadata": {},
   "outputs": [
    {
     "name": "stdout",
     "output_type": "stream",
     "text": [
      "Defaulting to user installation because normal site-packages is not writeable\n",
      "Requirement already satisfied: pydot in /home/jens/.local/lib/python3.10/site-packages (1.4.2)\n",
      "Requirement already satisfied: pyparsing>=2.1.4 in /usr/lib/python3/dist-packages (from pydot) (2.4.7)\n",
      "Note: you may need to restart the kernel to use updated packages.\n"
     ]
    }
   ],
   "source": [
    "pip install pydot"
   ]
  },
  {
   "cell_type": "code",
   "execution_count": 13,
   "id": "b2524f2d",
   "metadata": {},
   "outputs": [
    {
     "name": "stdout",
     "output_type": "stream",
     "text": [
      "Defaulting to user installation because normal site-packages is not writeable\n",
      "Collecting graphviz\n",
      "  Downloading graphviz-0.20.1-py3-none-any.whl (47 kB)\n",
      "\u001b[2K     \u001b[38;2;114;156;31m━━━━━━━━━━━━━━━━━━━━━━━━━━━━━━━━━━━━━━━━\u001b[0m \u001b[32m47.0/47.0 kB\u001b[0m \u001b[31m1.9 MB/s\u001b[0m eta \u001b[36m0:00:00\u001b[0m\n",
      "\u001b[?25hInstalling collected packages: graphviz\n",
      "Successfully installed graphviz-0.20.1\n",
      "Note: you may need to restart the kernel to use updated packages.\n"
     ]
    }
   ],
   "source": [
    "pip install graphviz"
   ]
  },
  {
   "cell_type": "code",
   "execution_count": 3,
   "id": "33bba15d",
   "metadata": {},
   "outputs": [
    {
     "name": "stderr",
     "output_type": "stream",
     "text": [
      "2023-01-24 17:37:42.656944: I tensorflow/core/platform/cpu_feature_guard.cc:193] This TensorFlow binary is optimized with oneAPI Deep Neural Network Library (oneDNN) to use the following CPU instructions in performance-critical operations:  AVX2 FMA\n",
      "To enable them in other operations, rebuild TensorFlow with the appropriate compiler flags.\n",
      "2023-01-24 17:37:43.879341: W tensorflow/compiler/xla/stream_executor/platform/default/dso_loader.cc:64] Could not load dynamic library 'libnvinfer.so.7'; dlerror: libnvinfer.so.7: cannot open shared object file: No such file or directory\n",
      "2023-01-24 17:37:43.879433: W tensorflow/compiler/xla/stream_executor/platform/default/dso_loader.cc:64] Could not load dynamic library 'libnvinfer_plugin.so.7'; dlerror: libnvinfer_plugin.so.7: cannot open shared object file: No such file or directory\n",
      "2023-01-24 17:37:43.879442: W tensorflow/compiler/tf2tensorrt/utils/py_utils.cc:38] TF-TRT Warning: Cannot dlopen some TensorRT libraries. If you would like to use Nvidia GPU with TensorRT, please make sure the missing libraries mentioned above are installed properly.\n"
     ]
    }
   ],
   "source": [
    "# Load libraries\n",
    "from sklearn import preprocessing\n",
    "from sklearn.model_selection import train_test_split\n",
    "from sklearn.preprocessing import MinMaxScaler\n",
    "\n",
    "# Load libraries\n",
    "from keras import models\n",
    "from keras import layers\n",
    "\n",
    "# Load libraries\n",
    "import numpy as np\n",
    "from keras.preprocessing.text import Tokenizer\n",
    "from keras import models\n",
    "from keras import layers\n",
    "from keras import regularizers\n",
    "from keras.models import Sequential, load_model\n",
    "from keras.layers import Dense\n",
    "\n",
    "#For the project\n",
    "import pandas as pd\n",
    "\n",
    "# For visualization\n",
    "import matplotlib.pyplot as plt"
   ]
  },
  {
   "cell_type": "code",
   "execution_count": 4,
   "id": "e727504c",
   "metadata": {},
   "outputs": [
    {
     "data": {
      "text/html": [
       "<div>\n",
       "<style scoped>\n",
       "    .dataframe tbody tr th:only-of-type {\n",
       "        vertical-align: middle;\n",
       "    }\n",
       "\n",
       "    .dataframe tbody tr th {\n",
       "        vertical-align: top;\n",
       "    }\n",
       "\n",
       "    .dataframe thead th {\n",
       "        text-align: right;\n",
       "    }\n",
       "</style>\n",
       "<table border=\"1\" class=\"dataframe\">\n",
       "  <thead>\n",
       "    <tr style=\"text-align: right;\">\n",
       "      <th></th>\n",
       "      <th>age</th>\n",
       "      <th>duration</th>\n",
       "      <th>campaign</th>\n",
       "      <th>pdays</th>\n",
       "      <th>previous</th>\n",
       "      <th>emp.var.rate</th>\n",
       "      <th>cons.price.idx</th>\n",
       "      <th>cons.conf.idx</th>\n",
       "      <th>euribor3m</th>\n",
       "      <th>nr.employed</th>\n",
       "      <th>...</th>\n",
       "      <th>month_oct</th>\n",
       "      <th>month_sep</th>\n",
       "      <th>day_of_week_fri</th>\n",
       "      <th>day_of_week_mon</th>\n",
       "      <th>day_of_week_thu</th>\n",
       "      <th>day_of_week_tue</th>\n",
       "      <th>day_of_week_wed</th>\n",
       "      <th>poutcome_failure</th>\n",
       "      <th>poutcome_nonexistent</th>\n",
       "      <th>poutcome_success</th>\n",
       "    </tr>\n",
       "  </thead>\n",
       "  <tbody>\n",
       "    <tr>\n",
       "      <th>0</th>\n",
       "      <td>56</td>\n",
       "      <td>261</td>\n",
       "      <td>1</td>\n",
       "      <td>999</td>\n",
       "      <td>0</td>\n",
       "      <td>1.1</td>\n",
       "      <td>93.994</td>\n",
       "      <td>-36.4</td>\n",
       "      <td>4.857</td>\n",
       "      <td>5191.0</td>\n",
       "      <td>...</td>\n",
       "      <td>0</td>\n",
       "      <td>0</td>\n",
       "      <td>0</td>\n",
       "      <td>1</td>\n",
       "      <td>0</td>\n",
       "      <td>0</td>\n",
       "      <td>0</td>\n",
       "      <td>0</td>\n",
       "      <td>1</td>\n",
       "      <td>0</td>\n",
       "    </tr>\n",
       "    <tr>\n",
       "      <th>1</th>\n",
       "      <td>57</td>\n",
       "      <td>149</td>\n",
       "      <td>1</td>\n",
       "      <td>999</td>\n",
       "      <td>0</td>\n",
       "      <td>1.1</td>\n",
       "      <td>93.994</td>\n",
       "      <td>-36.4</td>\n",
       "      <td>4.857</td>\n",
       "      <td>5191.0</td>\n",
       "      <td>...</td>\n",
       "      <td>0</td>\n",
       "      <td>0</td>\n",
       "      <td>0</td>\n",
       "      <td>1</td>\n",
       "      <td>0</td>\n",
       "      <td>0</td>\n",
       "      <td>0</td>\n",
       "      <td>0</td>\n",
       "      <td>1</td>\n",
       "      <td>0</td>\n",
       "    </tr>\n",
       "    <tr>\n",
       "      <th>2</th>\n",
       "      <td>37</td>\n",
       "      <td>226</td>\n",
       "      <td>1</td>\n",
       "      <td>999</td>\n",
       "      <td>0</td>\n",
       "      <td>1.1</td>\n",
       "      <td>93.994</td>\n",
       "      <td>-36.4</td>\n",
       "      <td>4.857</td>\n",
       "      <td>5191.0</td>\n",
       "      <td>...</td>\n",
       "      <td>0</td>\n",
       "      <td>0</td>\n",
       "      <td>0</td>\n",
       "      <td>1</td>\n",
       "      <td>0</td>\n",
       "      <td>0</td>\n",
       "      <td>0</td>\n",
       "      <td>0</td>\n",
       "      <td>1</td>\n",
       "      <td>0</td>\n",
       "    </tr>\n",
       "    <tr>\n",
       "      <th>3</th>\n",
       "      <td>40</td>\n",
       "      <td>151</td>\n",
       "      <td>1</td>\n",
       "      <td>999</td>\n",
       "      <td>0</td>\n",
       "      <td>1.1</td>\n",
       "      <td>93.994</td>\n",
       "      <td>-36.4</td>\n",
       "      <td>4.857</td>\n",
       "      <td>5191.0</td>\n",
       "      <td>...</td>\n",
       "      <td>0</td>\n",
       "      <td>0</td>\n",
       "      <td>0</td>\n",
       "      <td>1</td>\n",
       "      <td>0</td>\n",
       "      <td>0</td>\n",
       "      <td>0</td>\n",
       "      <td>0</td>\n",
       "      <td>1</td>\n",
       "      <td>0</td>\n",
       "    </tr>\n",
       "    <tr>\n",
       "      <th>4</th>\n",
       "      <td>56</td>\n",
       "      <td>307</td>\n",
       "      <td>1</td>\n",
       "      <td>999</td>\n",
       "      <td>0</td>\n",
       "      <td>1.1</td>\n",
       "      <td>93.994</td>\n",
       "      <td>-36.4</td>\n",
       "      <td>4.857</td>\n",
       "      <td>5191.0</td>\n",
       "      <td>...</td>\n",
       "      <td>0</td>\n",
       "      <td>0</td>\n",
       "      <td>0</td>\n",
       "      <td>1</td>\n",
       "      <td>0</td>\n",
       "      <td>0</td>\n",
       "      <td>0</td>\n",
       "      <td>0</td>\n",
       "      <td>1</td>\n",
       "      <td>0</td>\n",
       "    </tr>\n",
       "  </tbody>\n",
       "</table>\n",
       "<p>5 rows × 63 columns</p>\n",
       "</div>"
      ],
      "text/plain": [
       "   age  duration  campaign  pdays  previous  emp.var.rate  cons.price.idx  \\\n",
       "0   56       261         1    999         0           1.1          93.994   \n",
       "1   57       149         1    999         0           1.1          93.994   \n",
       "2   37       226         1    999         0           1.1          93.994   \n",
       "3   40       151         1    999         0           1.1          93.994   \n",
       "4   56       307         1    999         0           1.1          93.994   \n",
       "\n",
       "   cons.conf.idx  euribor3m  nr.employed  ...  month_oct  month_sep  \\\n",
       "0          -36.4      4.857       5191.0  ...          0          0   \n",
       "1          -36.4      4.857       5191.0  ...          0          0   \n",
       "2          -36.4      4.857       5191.0  ...          0          0   \n",
       "3          -36.4      4.857       5191.0  ...          0          0   \n",
       "4          -36.4      4.857       5191.0  ...          0          0   \n",
       "\n",
       "   day_of_week_fri  day_of_week_mon  day_of_week_thu  day_of_week_tue  \\\n",
       "0                0                1                0                0   \n",
       "1                0                1                0                0   \n",
       "2                0                1                0                0   \n",
       "3                0                1                0                0   \n",
       "4                0                1                0                0   \n",
       "\n",
       "   day_of_week_wed  poutcome_failure  poutcome_nonexistent  poutcome_success  \n",
       "0                0                 0                     1                 0  \n",
       "1                0                 0                     1                 0  \n",
       "2                0                 0                     1                 0  \n",
       "3                0                 0                     1                 0  \n",
       "4                0                 0                     1                 0  \n",
       "\n",
       "[5 rows x 63 columns]"
      ]
     },
     "execution_count": 4,
     "metadata": {},
     "output_type": "execute_result"
    }
   ],
   "source": [
    "#load data\n",
    "df = pd.read_csv('./bank-additional-full.csv', sep=';')\n",
    "#data = pd.read_csv('./bank-additional-full.csv', encoding = 'UTF-8', sep=';')\n",
    "#data.head()\n",
    "df = df.dropna()\n",
    "\n",
    "data = df.drop('y', axis=1)\n",
    "target = df['y']\n",
    "target = np.where(target == 'yes', 1, 0)\n",
    "data = pd.get_dummies(data, columns=[\"job\",\"marital\",\"education\",\"default\",\"housing\",\"loan\",\"contact\",\"month\",\"day_of_week\",\"poutcome\"])\n",
    "data.head()"
   ]
  },
  {
   "cell_type": "code",
   "execution_count": 5,
   "id": "065cefc5",
   "metadata": {},
   "outputs": [],
   "source": [
    "# Set the number of features we want\n",
    "#features = np.array(data)\n",
    "#number_of_features = len(features)"
   ]
  },
  {
   "cell_type": "code",
   "execution_count": 6,
   "id": "4f581687",
   "metadata": {
    "scrolled": true
   },
   "outputs": [
    {
     "name": "stdout",
     "output_type": "stream",
     "text": [
      "32950\n",
      "8238\n",
      "32950\n",
      "8238\n"
     ]
    }
   ],
   "source": [
    "# Load data and target\n",
    "data_train, data_test, target_train, target_test = train_test_split(data, target, test_size=0.2, random_state=69)\n",
    "\n",
    "print(len(data_train))\n",
    "print(len(data_test))\n",
    "print(len(target_train))\n",
    "print(len(target_test))\n",
    "\n",
    "scaler = MinMaxScaler()\n",
    "data_train = scaler.fit_transform(data_train)\n",
    "data_test = scaler.transform(data_test)\n",
    "\n",
    "\n",
    "# Convert stuff\n",
    "#tokenizer = Tokenizer()\n",
    "#tokenizer.fit_on_texts(X_train)\n",
    "\n",
    "#X_train_seq = tokenizer.texts_to_sequences(X_train)\n",
    "#X_test_seq = tokenizer.texts_to_sequences(X_test)\n",
    "\n",
    "#features_train = tokenizer.sequences_to_matrix(X_train_seq, mode=\"binary\")\n",
    "#features_test = tokenizer.sequences_to_matrix(X_test_seq, mode=\"binary\")"
   ]
  },
  {
   "cell_type": "code",
   "execution_count": 7,
   "id": "9d9051e1",
   "metadata": {
    "scrolled": false
   },
   "outputs": [
    {
     "name": "stdout",
     "output_type": "stream",
     "text": [
      "Epoch 1/50\n"
     ]
    },
    {
     "name": "stderr",
     "output_type": "stream",
     "text": [
      "2023-01-24 17:37:45.782749: E tensorflow/compiler/xla/stream_executor/cuda/cuda_driver.cc:267] failed call to cuInit: CUDA_ERROR_NO_DEVICE: no CUDA-capable device is detected\n",
      "2023-01-24 17:37:45.782775: I tensorflow/compiler/xla/stream_executor/cuda/cuda_diagnostics.cc:156] kernel driver does not appear to be running on this host (jens-XPS-13-9370): /proc/driver/nvidia/version does not exist\n",
      "2023-01-24 17:37:45.783109: I tensorflow/core/platform/cpu_feature_guard.cc:193] This TensorFlow binary is optimized with oneAPI Deep Neural Network Library (oneDNN) to use the following CPU instructions in performance-critical operations:  AVX2 FMA\n",
      "To enable them in other operations, rebuild TensorFlow with the appropriate compiler flags.\n"
     ]
    },
    {
     "name": "stdout",
     "output_type": "stream",
     "text": [
      "2060/2060 [==============================] - 3s 1ms/step - loss: 0.2644 - accuracy: 0.8968 - val_loss: 0.2117 - val_accuracy: 0.9085\n",
      "Epoch 2/50\n",
      "2060/2060 [==============================] - 3s 1ms/step - loss: 0.2054 - accuracy: 0.9085 - val_loss: 0.1910 - val_accuracy: 0.9096\n",
      "Epoch 3/50\n",
      "2060/2060 [==============================] - 3s 1ms/step - loss: 0.1933 - accuracy: 0.9113 - val_loss: 0.1905 - val_accuracy: 0.9090\n",
      "Epoch 4/50\n",
      "2060/2060 [==============================] - 3s 1ms/step - loss: 0.1882 - accuracy: 0.9116 - val_loss: 0.1921 - val_accuracy: 0.9094\n",
      "Epoch 5/50\n",
      "2060/2060 [==============================] - 3s 1ms/step - loss: 0.1851 - accuracy: 0.9136 - val_loss: 0.1893 - val_accuracy: 0.9094\n",
      "Epoch 6/50\n",
      "2060/2060 [==============================] - 3s 1ms/step - loss: 0.1833 - accuracy: 0.9147 - val_loss: 0.1846 - val_accuracy: 0.9111\n",
      "Epoch 7/50\n",
      "2060/2060 [==============================] - 3s 1ms/step - loss: 0.1803 - accuracy: 0.9163 - val_loss: 0.1866 - val_accuracy: 0.9099\n",
      "Epoch 8/50\n",
      "2060/2060 [==============================] - 3s 1ms/step - loss: 0.1793 - accuracy: 0.9166 - val_loss: 0.1826 - val_accuracy: 0.9109\n",
      "Epoch 9/50\n",
      "2060/2060 [==============================] - 3s 1ms/step - loss: 0.1770 - accuracy: 0.9178 - val_loss: 0.1919 - val_accuracy: 0.9104\n",
      "Epoch 10/50\n",
      "2060/2060 [==============================] - 3s 1ms/step - loss: 0.1755 - accuracy: 0.9175 - val_loss: 0.1836 - val_accuracy: 0.9096\n",
      "Epoch 11/50\n",
      "2060/2060 [==============================] - 3s 1ms/step - loss: 0.1740 - accuracy: 0.9184 - val_loss: 0.1914 - val_accuracy: 0.9115\n",
      "Epoch 12/50\n",
      "2060/2060 [==============================] - 3s 1ms/step - loss: 0.1734 - accuracy: 0.9191 - val_loss: 0.1846 - val_accuracy: 0.9097\n",
      "Epoch 13/50\n",
      "2060/2060 [==============================] - 3s 1ms/step - loss: 0.1718 - accuracy: 0.9204 - val_loss: 0.1860 - val_accuracy: 0.9109\n",
      "Epoch 14/50\n",
      "2060/2060 [==============================] - 3s 1ms/step - loss: 0.1706 - accuracy: 0.9205 - val_loss: 0.1938 - val_accuracy: 0.9094\n",
      "Epoch 15/50\n",
      "2060/2060 [==============================] - 3s 1ms/step - loss: 0.1702 - accuracy: 0.9205 - val_loss: 0.1840 - val_accuracy: 0.9098\n",
      "Epoch 16/50\n",
      "2060/2060 [==============================] - 3s 1ms/step - loss: 0.1693 - accuracy: 0.9217 - val_loss: 0.1860 - val_accuracy: 0.9098\n",
      "Epoch 17/50\n",
      "2060/2060 [==============================] - 3s 1ms/step - loss: 0.1679 - accuracy: 0.9211 - val_loss: 0.1839 - val_accuracy: 0.9092\n",
      "Epoch 18/50\n",
      "2060/2060 [==============================] - 3s 1ms/step - loss: 0.1663 - accuracy: 0.9223 - val_loss: 0.1832 - val_accuracy: 0.9098\n",
      "Epoch 19/50\n",
      "2060/2060 [==============================] - 3s 1ms/step - loss: 0.1656 - accuracy: 0.9223 - val_loss: 0.1873 - val_accuracy: 0.9087\n",
      "Epoch 20/50\n",
      "2060/2060 [==============================] - 3s 1ms/step - loss: 0.1647 - accuracy: 0.9227 - val_loss: 0.1881 - val_accuracy: 0.9084\n",
      "Epoch 21/50\n",
      "2060/2060 [==============================] - 3s 1ms/step - loss: 0.1641 - accuracy: 0.9235 - val_loss: 0.1876 - val_accuracy: 0.9099\n",
      "Epoch 22/50\n",
      "2060/2060 [==============================] - 3s 1ms/step - loss: 0.1632 - accuracy: 0.9243 - val_loss: 0.1850 - val_accuracy: 0.9086\n",
      "Epoch 23/50\n",
      "2060/2060 [==============================] - 3s 1ms/step - loss: 0.1620 - accuracy: 0.9240 - val_loss: 0.1879 - val_accuracy: 0.9103\n",
      "Epoch 24/50\n",
      "2060/2060 [==============================] - 3s 1ms/step - loss: 0.1607 - accuracy: 0.9255 - val_loss: 0.1949 - val_accuracy: 0.9074\n",
      "Epoch 25/50\n",
      "2060/2060 [==============================] - 3s 1ms/step - loss: 0.1601 - accuracy: 0.9269 - val_loss: 0.1908 - val_accuracy: 0.9113\n",
      "Epoch 26/50\n",
      "2060/2060 [==============================] - 3s 1ms/step - loss: 0.1606 - accuracy: 0.9266 - val_loss: 0.1915 - val_accuracy: 0.9111\n",
      "Epoch 27/50\n",
      "2060/2060 [==============================] - 3s 1ms/step - loss: 0.1582 - accuracy: 0.9269 - val_loss: 0.1927 - val_accuracy: 0.9108\n",
      "Epoch 28/50\n",
      "2060/2060 [==============================] - 3s 1ms/step - loss: 0.1574 - accuracy: 0.9279 - val_loss: 0.1933 - val_accuracy: 0.9098\n",
      "Epoch 29/50\n",
      "2060/2060 [==============================] - 3s 1ms/step - loss: 0.1563 - accuracy: 0.9277 - val_loss: 0.1979 - val_accuracy: 0.9056\n",
      "Epoch 30/50\n",
      "2060/2060 [==============================] - 3s 1ms/step - loss: 0.1561 - accuracy: 0.9277 - val_loss: 0.1947 - val_accuracy: 0.9079\n",
      "Epoch 31/50\n",
      "2060/2060 [==============================] - 3s 1ms/step - loss: 0.1550 - accuracy: 0.9301 - val_loss: 0.1967 - val_accuracy: 0.9056\n",
      "Epoch 32/50\n",
      "2060/2060 [==============================] - 3s 1ms/step - loss: 0.1546 - accuracy: 0.9285 - val_loss: 0.1978 - val_accuracy: 0.9085\n",
      "Epoch 33/50\n",
      "2060/2060 [==============================] - 3s 1ms/step - loss: 0.1533 - accuracy: 0.9294 - val_loss: 0.1987 - val_accuracy: 0.9059\n",
      "Epoch 34/50\n",
      "2060/2060 [==============================] - 3s 1ms/step - loss: 0.1530 - accuracy: 0.9308 - val_loss: 0.2022 - val_accuracy: 0.9041\n",
      "Epoch 35/50\n",
      "2060/2060 [==============================] - 3s 1ms/step - loss: 0.1524 - accuracy: 0.9306 - val_loss: 0.2006 - val_accuracy: 0.9037\n",
      "Epoch 36/50\n",
      "2060/2060 [==============================] - 3s 1ms/step - loss: 0.1519 - accuracy: 0.9315 - val_loss: 0.2017 - val_accuracy: 0.9043\n",
      "Epoch 37/50\n",
      "2060/2060 [==============================] - 3s 1ms/step - loss: 0.1508 - accuracy: 0.9307 - val_loss: 0.2045 - val_accuracy: 0.9054\n",
      "Epoch 38/50\n",
      "2060/2060 [==============================] - 3s 1ms/step - loss: 0.1504 - accuracy: 0.9312 - val_loss: 0.2124 - val_accuracy: 0.9046\n",
      "Epoch 39/50\n",
      "2060/2060 [==============================] - 3s 1ms/step - loss: 0.1497 - accuracy: 0.9306 - val_loss: 0.2064 - val_accuracy: 0.9045\n",
      "Epoch 40/50\n",
      "2060/2060 [==============================] - 3s 1ms/step - loss: 0.1496 - accuracy: 0.9320 - val_loss: 0.2029 - val_accuracy: 0.9082\n",
      "Epoch 41/50\n",
      "2060/2060 [==============================] - 3s 1ms/step - loss: 0.1485 - accuracy: 0.9329 - val_loss: 0.2073 - val_accuracy: 0.9071\n",
      "Epoch 42/50\n",
      "2060/2060 [==============================] - 3s 1ms/step - loss: 0.1471 - accuracy: 0.9334 - val_loss: 0.2037 - val_accuracy: 0.9063\n",
      "Epoch 43/50\n",
      "2060/2060 [==============================] - 3s 1ms/step - loss: 0.1465 - accuracy: 0.9323 - val_loss: 0.2089 - val_accuracy: 0.9068\n",
      "Epoch 44/50\n",
      "2060/2060 [==============================] - 3s 1ms/step - loss: 0.1472 - accuracy: 0.9334 - val_loss: 0.2057 - val_accuracy: 0.9065\n",
      "Epoch 45/50\n",
      "2060/2060 [==============================] - 3s 1ms/step - loss: 0.1453 - accuracy: 0.9340 - val_loss: 0.2163 - val_accuracy: 0.9041\n",
      "Epoch 46/50\n",
      "2060/2060 [==============================] - 3s 1ms/step - loss: 0.1461 - accuracy: 0.9337 - val_loss: 0.2116 - val_accuracy: 0.9052\n",
      "Epoch 47/50\n",
      "2060/2060 [==============================] - 3s 1ms/step - loss: 0.1449 - accuracy: 0.9336 - val_loss: 0.2134 - val_accuracy: 0.9056\n",
      "Epoch 48/50\n",
      "2060/2060 [==============================] - 3s 1ms/step - loss: 0.1444 - accuracy: 0.9336 - val_loss: 0.2106 - val_accuracy: 0.9037\n",
      "Epoch 49/50\n",
      "2060/2060 [==============================] - 3s 1ms/step - loss: 0.1439 - accuracy: 0.9344 - val_loss: 0.2132 - val_accuracy: 0.9042\n",
      "Epoch 50/50\n",
      "2060/2060 [==============================] - 3s 1ms/step - loss: 0.1428 - accuracy: 0.9347 - val_loss: 0.2185 - val_accuracy: 0.9046\n"
     ]
    }
   ],
   "source": [
    "model = Sequential()\n",
    "model.add(Dense(32, input_dim=data_train.shape[1], activation='relu', input_shape=(63,)))\n",
    "model.add(Dense(32, input_dim=data_train.shape[1], activation='relu'))\n",
    "model.add(Dense(1, activation='sigmoid'))\n",
    "model.compile(optimizer='adam', loss='binary_crossentropy', metrics=['accuracy'])\n",
    "history = model.fit(data_train, target_train, epochs=50, batch_size=16, validation_data=(data_test, target_test))"
   ]
  },
  {
   "cell_type": "code",
   "execution_count": 8,
   "id": "8ef94882",
   "metadata": {},
   "outputs": [],
   "source": [
    "# Get training and test loss histories\n",
    "training_loss = history.history[\"loss\"]\n",
    "test_loss = history.history[\"val_loss\"]\n",
    "\n",
    "train_acc = history.history['accuracy']\n",
    "val_acc = history.history['val_accuracy']\n",
    "# Create count of the number of epochs\n",
    "epoch_count = range(1, len(training_loss) + 1)"
   ]
  },
  {
   "cell_type": "code",
   "execution_count": 12,
   "id": "a8f41096",
   "metadata": {},
   "outputs": [
    {
     "data": {
      "image/png": "[encoded data removed]",
      "text/plain": [
       "<Figure size 640x480 with 1 Axes>"
      ]
     },
     "metadata": {},
     "output_type": "display_data"
    }
   ],
   "source": [
    "# Visualize loss history\n",
    "plt.plot(epoch_count, training_loss, \"r-\")\n",
    "plt.plot(epoch_count, test_loss, \"b-\")\n",
    "plt.legend([\"Training Loss\", \"Test Loss\"])\n",
    "plt.xlabel(\"Epoch\")\n",
    "plt.ylabel(\"Loss\")\n",
    "plt.show()"
   ]
  },
  {
   "cell_type": "code",
   "execution_count": 10,
   "id": "1887cd6e",
   "metadata": {
    "scrolled": false
   },
   "outputs": [
    {
     "data": {
      "image/png": "[encoded data removed]",
      "text/plain": [
       "<Figure size 640x480 with 1 Axes>"
      ]
     },
     "metadata": {},
     "output_type": "display_data"
    }
   ],
   "source": [
    "plt.plot(epoch_count, train_acc, \"r-\")\n",
    "plt.plot(epoch_count, val_acc, \"b-\")\n",
    "plt.legend([\"Training Accuracy\", \"Test Accuracy\"])\n",
    "plt.xlabel(\"Epoch\")\n",
    "plt.ylabel(\"Accuracy\")\n",
    "plt.show()"
   ]
  },
  {
   "cell_type": "code",
   "execution_count": 15,
   "id": "5bce02b0",
   "metadata": {},
   "outputs": [
    {
     "name": "stdout",
     "output_type": "stream",
     "text": [
      "You must install pydot (`pip install pydot`) and install graphviz (see instructions at https://graphviz.gitlab.io/download/) for plot_model to work.\n"
     ]
    }
   ],
   "source": [
    "from keras.utils import plot_model\n",
    "model.summary()\n",
    "plot_model(model, to_file=\"model.png\")"
   ]
  }
 ],
 "metadata": {
  "kernelspec": {
   "display_name": "Python 3 (ipykernel)",
   "language": "python",
   "name": "python3"
  },
  "language_info": {
   "codemirror_mode": {
    "name": "ipython",
    "version": 3
   },
   "file_extension": ".py",
   "mimetype": "text/x-python",
   "name": "python",
   "nbconvert_exporter": "python",
   "pygments_lexer": "ipython3",
   "version": "3.10.6"
  }
 },
 "nbformat": 4,
 "nbformat_minor": 5
}
